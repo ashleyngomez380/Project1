{
  "nbformat": 4,
  "nbformat_minor": 0,
  "metadata": {
    "colab": {
      "provenance": [],
      "gpuType": "T4",
      "include_colab_link": true
    },
    "kernelspec": {
      "name": "python3",
      "display_name": "Python 3"
    },
    "language_info": {
      "name": "python"
    },
    "accelerator": "GPU"
  },
  "cells": [
    {
      "cell_type": "markdown",
      "metadata": {
        "id": "view-in-github",
        "colab_type": "text"
      },
      "source": [
        "<a href=\"https://colab.research.google.com/github/ashleyngomez380/Project1/blob/main/Li_GroupDRO_clean_sep22.ipynb\" target=\"_parent\"><img src=\"https://colab.research.google.com/assets/colab-badge.svg\" alt=\"Open In Colab\"/></a>"
      ]
    },
    {
      "cell_type": "code",
      "source": [
        "!git clone https://github.com/ashleyngomez380/Project1.git"
      ],
      "metadata": {
        "id": "8wPg4Fr-4taf",
        "outputId": "774f14a4-4ca9-4968-84da-2052412f944e",
        "colab": {
          "base_uri": "https://localhost:8080/"
        }
      },
      "execution_count": 29,
      "outputs": [
        {
          "output_type": "stream",
          "name": "stdout",
          "text": [
            "fatal: destination path 'Project1' already exists and is not an empty directory.\n"
          ]
        }
      ]
    },
    {
      "cell_type": "code",
      "source": [
        "!cp -r Project1/* /content/"
      ],
      "metadata": {
        "id": "b8GRMPfhJTYs"
      },
      "execution_count": 30,
      "outputs": []
    },
    {
      "cell_type": "markdown",
      "source": [],
      "metadata": {
        "id": "dguruCPsJRdA"
      }
    },
    {
      "cell_type": "markdown",
      "source": [
        "#Functions and Code"
      ],
      "metadata": {
        "id": "wTk1ezJmCDXS"
      }
    },
    {
      "cell_type": "code",
      "execution_count": 31,
      "metadata": {
        "colab": {
          "base_uri": "https://localhost:8080/"
        },
        "id": "1Zt1sGykBpRW",
        "outputId": "57c242fa-bc93-4c40-806e-3a8af4a95156"
      },
      "outputs": [
        {
          "output_type": "stream",
          "name": "stdout",
          "text": [
            "False\n"
          ]
        }
      ],
      "source": [
        "import torch\n",
        "import torch.nn as nn\n",
        "import torch.nn.functional as F\n",
        "from math import sqrt\n",
        "import numpy as np\n",
        "import matplotlib.pyplot as plt\n",
        "import numpy as np\n",
        "import pandas as pd\n",
        "import math\n",
        "\n",
        "from torch import optim\n",
        "from torch.utils.data import Dataset, DataLoader\n",
        "from sklearn.preprocessing import StandardScaler\n",
        "import argparse\n",
        "import warnings\n",
        "import os, sys\n",
        "import time\n",
        "from scipy import stats\n",
        "\n",
        "\n",
        "'''\n",
        "How to use main.py\n",
        "\n",
        "\n",
        "'''\n",
        "\n",
        "parser = argparse.ArgumentParser()\n",
        "\n",
        "\n",
        "# dataset settings\n",
        "parser.add_argument('--x_len', type=int, default=480,\n",
        "                    help='input sequence length')\n",
        "\n",
        "parser.add_argument('--y_len', type=int, default=96,\n",
        "                    help='output sequence length')\n",
        "\n",
        "parser.add_argument('--group_idx', type=str, default=\"weekend_label.txt\",\n",
        "                    help='group label file e.g. weekend_label.txt')\n",
        "\n",
        "parser.add_argument('--model', type=str, default=\"tmp.pt\",\n",
        "                    help='saved model name')\n",
        "\n",
        "parser.add_argument('--board', type=str, default=\"run2\",\n",
        "                    help='saved model name')\n",
        "\n",
        "parser.add_argument('--dataset', type=str, default=\"dutch_power_demand.txt\",\n",
        "                    help='time series file e.g: dutch_power_demand.txt')\n",
        "\n",
        "parser.add_argument('--split', type=str, default=\"10000,20000,30000\",\n",
        "                    help='split of train/vaild/test data e.g. 10000/20000/30000 (training: 0 10000, vaildation: 10000,20000, testing: 20000 30000)')\n",
        "\n",
        "parser.add_argument('--d', type=int, default=1,\n",
        "                    help='dimension of time series')\n",
        "\n",
        "parser.add_argument('--delta', type=float, default=0.1,\n",
        "                    help='dimension of time series')\n",
        "\n",
        "\n",
        "parser.add_argument('--batch_size', type=int, default=128,\n",
        "                    help='batch size')\n",
        "\n",
        "parser.add_argument('--epoch_size', type=int, default=20,\n",
        "                    help='epochs')\n",
        "\n",
        "parser.add_argument('--step_size', type=float, default=1,\n",
        "                    help='step size')\n",
        "\n",
        "parser.add_argument('--no_dro', action='store_true', default=False,\n",
        "                    help='Do not use dro. Default:False')\n",
        "\n",
        "parser.add_argument('--wd', type=float, default=0,\n",
        "                    help='Weight decay (L2 loss on parameters). default: 0')\n",
        "\n",
        "args = parser.parse_args('')\n",
        "\n",
        "args.split = [int(s) for s in args.split.split(\",\")]\n",
        "\n",
        "print(args.no_dro)\n",
        "\n",
        "\n",
        "class LossComputer:\n",
        "    def __init__(self, criterion, n_groups, group_counts, alpha=None,gamma=0.1, is_robust=True, adj=None, min_var_weight=0, step_size=1, normalize_loss=False, btl=False):\n",
        "        self.criterion = criterion\n",
        "        self.is_robust = is_robust\n",
        "        self.gamma = gamma\n",
        "        self.alpha = alpha\n",
        "        self.min_var_weight = min_var_weight\n",
        "        self.step_size = step_size\n",
        "        self.normalize_loss = normalize_loss\n",
        "        self.btl = btl\n",
        "\n",
        "        self.n_groups = n_groups\n",
        "        self.group_counts = group_counts.cuda()\n",
        "        self.group_frac = self.group_counts/self.group_counts.sum()\n",
        "        #self.group_str = dataset.group_str\n",
        "\n",
        "        if adj is not None:\n",
        "            self.adj = torch.from_numpy(adj).float().cuda()\n",
        "        else:\n",
        "            self.adj = torch.zeros(self.n_groups).float().cuda()\n",
        "\n",
        "        if is_robust:\n",
        "            assert alpha, 'alpha must be specified'\n",
        "\n",
        "        # quantities maintained throughout training\n",
        "        self.adv_probs = torch.ones(self.n_groups).cuda()/self.n_groups\n",
        "        self.exp_avg_loss = torch.zeros(self.n_groups).cuda()\n",
        "        self.exp_avg_initialized = torch.zeros(self.n_groups).byte().cuda()\n",
        "\n",
        "        self.reset_stats()\n",
        "\n",
        "    def loss(self, yhat, y, group_idx=None, is_training=False):\n",
        "        # compute per-sample and per-group losses\n",
        "        per_sample_losses = self.criterion(yhat, y)\n",
        "        #per_sample_losses = per_sample_losses.sum(dim=2).squeeze()\n",
        "        group_loss, group_count = self.compute_group_avg(per_sample_losses, group_idx)\n",
        "        print(group_loss)\n",
        "        #group_count = self.compute_group_avg((torch.argmax(yhat,1)==y).float(), group_idx)\n",
        "        #print(group_count)\n",
        "        # update historical losses\n",
        "        #self.update_exp_avg_loss(group_loss, group_count)\n",
        "\n",
        "        # compute overall loss\n",
        "        if self.is_robust and not self.btl:\n",
        "            actual_loss, weights = self.compute_robust_loss(group_loss, group_count)\n",
        "        elif self.is_robust and self.btl:\n",
        "             actual_loss, weights = self.compute_robust_loss_btl(group_loss, group_count)\n",
        "        else:\n",
        "            actual_loss = per_sample_losses.mean()\n",
        "            weights = None\n",
        "\n",
        "        # update stats\n",
        "        #self.update_stats(actual_loss, group_loss, group_count, weights)\n",
        "\n",
        "        return actual_loss\n",
        "\n",
        "    def compute_robust_loss(self, group_loss, group_count):\n",
        "        adjusted_loss = group_loss\n",
        "        if torch.all(self.adj>0):\n",
        "            adjusted_loss += self.adj/torch.sqrt(self.group_counts)\n",
        "        if self.normalize_loss:\n",
        "            adjusted_loss = adjusted_loss/(adjusted_loss.sum())\n",
        "\n",
        "        s = torch.exp(self.step_size*adjusted_loss.data);\n",
        "        #s[0]=0.9;\n",
        "        #print(s)\n",
        "\n",
        "        self.adv_probs = self.adv_probs * s\n",
        "\n",
        "        #self.adv_probs[0] = 0.05\n",
        "        self.adv_probs = self.adv_probs/(self.adv_probs.sum())\n",
        "        #print(\"original prob\")\n",
        "        #print(self.adv_probs )\n",
        "\n",
        "        if self.adv_probs[0]>args.delta:\n",
        "           # print('revised prob')\n",
        "            self.adv_probs[0] = self.adv_probs[0]/self.n_groups\n",
        "           # print(self.adv_probs)\n",
        "            self.adv_probs = self.adv_probs/(self.adv_probs.sum())\n",
        "\n",
        "        print(self.adv_probs)\n",
        "        robust_loss = group_loss @ self.adv_probs\n",
        "        return robust_loss, self.adv_probs\n",
        "\n",
        "    def compute_robust_loss_btl(self, group_loss, group_count):\n",
        "        adjusted_loss = self.exp_avg_loss + self.adj/torch.sqrt(self.group_counts)\n",
        "        return self.compute_robust_loss_greedy(group_loss, adjusted_loss)\n",
        "\n",
        "    def compute_robust_loss_greedy(self, group_loss, ref_loss):\n",
        "        sorted_idx = ref_loss.sort(descending=True)[1]\n",
        "        sorted_loss = group_loss[sorted_idx]\n",
        "        sorted_frac = self.group_frac[sorted_idx]\n",
        "\n",
        "        mask = torch.cumsum(sorted_frac, dim=0)<=self.alpha\n",
        "        weights = mask.float() * sorted_frac /self.alpha\n",
        "        last_idx = mask.sum()\n",
        "        weights[last_idx] = 1 - weights.sum()\n",
        "        weights = sorted_frac*self.min_var_weight + weights*(1-self.min_var_weight)\n",
        "\n",
        "        robust_loss = sorted_loss @ weights\n",
        "\n",
        "        # sort the weights back\n",
        "        _, unsort_idx = sorted_idx.sort()\n",
        "        unsorted_weights = weights[unsort_idx]\n",
        "        return robust_loss, unsorted_weights\n",
        "\n",
        "    '''\n",
        "    def compute_group_avg(self, losses, group_idx):\n",
        "        # compute observed counts and mean loss for each group\n",
        "        group_map = (group_idx == torch.arange(self.n_groups).unsqueeze(1).long().cuda()).float()\n",
        "        group_count = group_map.sum(1)\n",
        "        group_denom = group_count + (group_count==0).float() # avoid nans\n",
        "        #print(group_denom.size())\n",
        "        #print(group_map.size())\n",
        "        #print(losses.view(-1).size())\n",
        "        group_loss = (group_map @ losses.view(-1))/group_denom\n",
        "        return group_loss, group_count\n",
        "    '''\n",
        "\n",
        "    def compute_group_avg(self, losses, group_idx):\n",
        "        # compute observed counts and mean loss for each group\n",
        "        group_map = (group_idx == torch.arange(self.n_groups).unsqueeze(1).unsqueeze(1).long().cuda()).float()\n",
        "\n",
        "        group_count = group_map.sum(1).sum(1)\n",
        "        group_denom = group_count + (group_count==0).float() # avoid nans\n",
        "        #print(group_denom.size())\n",
        "        #print(group_map.size())\n",
        "        #print(losses.view(-1).size())\n",
        "        group_loss = torch.einsum('bj,gbj->g', losses, group_map.float()).squeeze()/group_denom\n",
        "        return group_loss, group_count\n",
        "\n",
        "\n",
        "    def update_exp_avg_loss(self, group_loss, group_count):\n",
        "        prev_weights = (1 - self.gamma*(group_count>0).float()) * (self.exp_avg_initialized>0).float()\n",
        "        curr_weights = 1 - prev_weights\n",
        "        self.exp_avg_loss = self.exp_avg_loss * prev_weights + group_loss*curr_weights\n",
        "        self.exp_avg_initialized = (self.exp_avg_initialized>0) + (group_count>0)\n",
        "\n",
        "    def reset_stats(self):\n",
        "        self.processed_data_counts = torch.zeros(self.n_groups).cuda()\n",
        "        self.update_data_counts = torch.zeros(self.n_groups).cuda()\n",
        "        self.update_batch_counts = torch.zeros(self.n_groups).cuda()\n",
        "        self.avg_group_loss = torch.zeros(self.n_groups).cuda()\n",
        "        self.avg_group_acc = torch.zeros(self.n_groups).cuda()\n",
        "        self.avg_per_sample_loss = 0.\n",
        "        self.avg_actual_loss = 0.\n",
        "        #self.avg_acc = 0.\n",
        "        self.batch_count = 0.\n",
        "\n",
        "    def update_stats(self, actual_loss, group_loss, group_count, weights=None):\n",
        "        # avg group loss\n",
        "        denom = self.processed_data_counts + group_count\n",
        "        denom += (denom==0).float()\n",
        "        prev_weight = self.processed_data_counts/denom\n",
        "        curr_weight = group_count/denom\n",
        "        self.avg_group_loss = prev_weight*self.avg_group_loss + curr_weight*group_loss\n",
        "\n",
        "        # avg group acc\n",
        "        #self.avg_group_acc = prev_weight*self.avg_group_acc + curr_weight*group_acc\n",
        "\n",
        "        # batch-wise average actual loss\n",
        "        denom = self.batch_count + 1\n",
        "        self.avg_actual_loss = (self.batch_count/denom)*self.avg_actual_loss + (1/denom)*actual_loss\n",
        "\n",
        "        # counts\n",
        "        self.processed_data_counts += group_count\n",
        "        if self.is_robust:\n",
        "            self.update_data_counts += group_count*((weights>0).float())\n",
        "            self.update_batch_counts += ((group_count*weights)>0).float()\n",
        "        else:\n",
        "            self.update_data_counts += group_count\n",
        "            self.update_batch_counts += (group_count>0).float()\n",
        "        self.batch_count+=1\n",
        "\n",
        "        # avg per-sample quantities\n",
        "        group_frac = self.processed_data_counts/(self.processed_data_counts.sum())\n",
        "        self.avg_per_sample_loss = group_frac @ self.avg_group_loss\n",
        "        #self.avg_acc = group_frac @ self.avg_group_acc\n",
        "\n",
        "    def get_model_stats(self, model, args, stats_dict):\n",
        "        model_norm_sq = 0.\n",
        "        for param in model.parameters():\n",
        "            model_norm_sq += torch.norm(param) ** 2\n",
        "        stats_dict['model_norm_sq'] = model_norm_sq.item()\n",
        "        stats_dict['reg_loss'] = args.weight_decay / 2 * model_norm_sq.item()\n",
        "        return stats_dict\n",
        "\n",
        "    def get_stats(self, model=None, args=None):\n",
        "        stats_dict = {}\n",
        "        for idx in range(self.n_groups):\n",
        "            stats_dict[f'avg_loss_group:{idx}'] = self.avg_group_loss[idx].item()\n",
        "            stats_dict[f'exp_avg_loss_group:{idx}'] = self.exp_avg_loss[idx].item()\n",
        "            stats_dict[f'avg_acc_group:{idx}'] = self.avg_group_acc[idx].item()\n",
        "            stats_dict[f'processed_data_count_group:{idx}'] = self.processed_data_counts[idx].item()\n",
        "            stats_dict[f'update_data_count_group:{idx}'] = self.update_data_counts[idx].item()\n",
        "            stats_dict[f'update_batch_count_group:{idx}'] = self.update_batch_counts[idx].item()\n",
        "\n",
        "        stats_dict['avg_actual_loss'] = self.avg_actual_loss.item()\n",
        "        stats_dict['avg_per_sample_loss'] = self.avg_per_sample_loss.item()\n",
        "        #stats_dict['avg_acc'] = self.avg_acc.item()\n",
        "\n",
        "        # Model stats\n",
        "        if model is not None:\n",
        "            assert args is not None\n",
        "            stats_dict = self.get_model_stats(model, args, stats_dict)\n",
        "\n",
        "        return stats_dict\n",
        "\n",
        "    def log_stats(self, logger, is_training):\n",
        "        if logger is None:\n",
        "            return\n",
        "\n",
        "        logger.write(f'Average incurred loss: {self.avg_per_sample_loss.item():.3f}  \\n')\n",
        "        logger.write(f'Average sample loss: {self.avg_actual_loss.item():.3f}  \\n')\n",
        "        #logger.write(f'Average acc: {self.avg_acc.item():.3f}  \\n')\n",
        "        for group_idx in range(self.n_groups):\n",
        "            logger.write(\n",
        "                f'  {self.group_str(group_idx)}  '\n",
        "                f'[n = {int(self.processed_data_counts[group_idx])}]:\\t'\n",
        "                f'loss = {self.avg_group_loss[group_idx]:.3f}  '\n",
        "                f'exp loss = {self.exp_avg_loss[group_idx]:.3f}  '\n",
        "                f'adv prob = {self.adv_probs[group_idx]:3f}  ')\n",
        "        logger.flush()\n",
        "\n",
        "\n",
        "\n",
        "\n",
        "class Syn_Dataset_Simple2(Dataset):\n",
        "    def __init__(self, x_train, y_train, y_class):\n",
        "        self.x_train = x_train\n",
        "        self.y_train = y_train\n",
        "        self.y_class = y_class\n",
        "\n",
        "    def __getitem__(self, index):\n",
        "        seq_x, seq_y, seq_x_mark, seq_y_mark = self.read_instance(self.x_train, self.y_train, self.y_class, index)\n",
        "        return seq_x, seq_y, seq_x_mark, seq_y_mark, index\n",
        "\n",
        "    def __len__(self):\n",
        "        return self.x_train.shape[0]\n",
        "\n",
        "    def read_instance(self, x, y, y_class, index):\n",
        "        seq_x = x[index,:]\n",
        "        seq_y = y[index,:]\n",
        "\n",
        "        # covariates\n",
        "        seq_x_mark = np.array(np.arange(0,seq_x.size(1)))\n",
        "        #seq_y_mark = np.array(np.arange(0,seq_y.size(1)))\n",
        "        seq_y_mark = y_class[index,:]\n",
        "        return seq_x, seq_y, seq_x_mark, seq_y_mark\n",
        "\n",
        "\n",
        "class Syn_Dataset_Simple(Dataset):\n",
        "    def __init__(self, x_train, y_train):\n",
        "        self.x_train = x_train\n",
        "        self.y_train = y_train\n",
        "\n",
        "    def __getitem__(self, index):\n",
        "        seq_x, seq_y, seq_x_mark, seq_y_mark = self.read_instance(self.x_train, self.y_train, index)\n",
        "        return seq_x, seq_y, seq_x_mark, seq_y_mark, index\n",
        "\n",
        "    def __len__(self):\n",
        "        return self.x_train.shape[0]\n",
        "\n",
        "    def read_instance(self, x, y, index):\n",
        "        seq_x = x[index,:]\n",
        "        seq_y = y[index,:]\n",
        "        # covariates\n",
        "        seq_x_mark = np.array(np.arange(0,seq_x.size(1)))\n",
        "        seq_y_mark = np.array(np.arange(0,seq_y.size(1)))\n",
        "        return seq_x, seq_y, seq_x_mark, seq_y_mark\n",
        "\n",
        "\n",
        "def train_test_convert(data, x_len, y_len, normalize=False):\n",
        "    if normalize:\n",
        "        data = stats.zscore(data)\n",
        "\n",
        "    import numpy.lib.stride_tricks as st\n",
        "    X = st.sliding_window_view(data, x_len+y_len)\n",
        "    X = torch.from_numpy(X).unsqueeze(1)\n",
        "    x_train = X[:,:,0:x_len].float()\n",
        "    y_train = X[:,:,x_len:].float()\n",
        "\n",
        "    return x_train, y_train\n",
        "\n",
        "def compute_instwise_mse(out,y_test):\n",
        "    mse = nn.MSELoss(reduction='none')\n",
        "    ts = mse(out,y_test).mean(dim=2).cpu().detach().numpy()\n",
        "    #plt.plot(mse(out,y_test).mean(dim=2).cpu().detach().numpy())\n",
        "    return ts\n",
        "\n",
        "def stepwise_mse_loss(out,y_test,x_len,y_len):\n",
        "    loss_stepwise = torch.zeros((out.size(0)+x_len+y_len-1))\n",
        "    mse = nn.MSELoss(reduction='none')\n",
        "    ts_loss = mse(out,y_test)\n",
        "    for i in range(ts_loss.size(0)):\n",
        "        loss_stepwise[i+x_len:i+x_len+y_len]=loss_stepwise[i+x_len:i+x_len+y_len]+ts_loss[i,0,:]/y_len\n",
        "    return loss_stepwise.detach().cpu().numpy()\n",
        "\n",
        "def evals(model,test_loader):\n",
        "    #data = Syn_Dataset_Simple(X,y)\n",
        "    #test_loader = DataLoader(data, batch_size=32, shuffle=False, drop_last=False)\n",
        "    model.eval()\n",
        "    preds = []\n",
        "    for data in test_loader:\n",
        "        batch_x,batch_y,batch_x_mark,batch_y_mark,batch_idx = data\n",
        "        batch_x = batch_x.cuda()\n",
        "        batch_y = batch_y.cuda()\n",
        "        batch_x_mark = torch.tensor(batch_x_mark).float().cuda()\n",
        "        batch_y_placeholder = torch.zeros_like(batch_y).float().cuda()\n",
        "        batch_y_mark = torch.tensor(batch_y_mark).float().cuda()\n",
        "        outputs= model(batch_x.float(), batch_x_mark, batch_y_placeholder, batch_y_mark)\n",
        "        preds.append(outputs.cpu().detach())\n",
        "    pred = torch.cat(preds)\n",
        "    return pred\n",
        "\n",
        "def tensorboard_plot(writer,label,o,y):\n",
        "    t = o.cpu().detach().numpy()\n",
        "    gt = y.cpu().detach().numpy()\n",
        "\n",
        "\n",
        "def plot_loss_per_instance(ts):\n",
        "    fig = plt.figure(figsize=(24, 24))\n",
        "    plt.plot(ts)\n",
        "    plt.ylim([0,3.5])\n",
        "    return fig\n",
        "\n",
        "\n",
        "\n",
        "\n",
        "\n",
        "\n"
      ]
    },
    {
      "cell_type": "markdown",
      "source": [
        "#Model"
      ],
      "metadata": {
        "id": "U77ZM8yUCHve"
      }
    },
    {
      "cell_type": "code",
      "source": [
        "import torch.nn.functional as F\n",
        "# model input is strictly enforced as (B x C x T). Output size is strictly enforced as (B x T)\n",
        "class MLP(nn.Module):\n",
        "  def __init__(self, input_size, channel_size,hidden_size, output_size):\n",
        "    super(MLP, self).__init__()\n",
        "    self.flat = nn.Flatten()\n",
        "    self.fc1 = nn.Linear(input_size*channel_size, hidden_size) # First layer\n",
        "    self.relu = nn.ReLU() # relu activation function\n",
        "    self.fc2 = nn.Linear(hidden_size, output_size) # Second layer\n",
        "\n",
        "  # Forward is equivalent to the first equation in the paper\n",
        "  def forward(self, x):\n",
        "    x = self.flat(x)\n",
        "    x = self.fc1(x) # we take the output of layer 1 (fc1)\n",
        "    x = self.relu(x) # run the output through the relu activation\n",
        "    x = self.fc2(x) # then run that throught the last layer\n",
        "    return x\n",
        "\n",
        "# split data and save mean, sd.\n",
        "predict_window_size = 24\n",
        "train_window_size = 96\n",
        "hidden_size = 128\n",
        "channel_size = 1\n",
        "\n",
        "\n",
        "model = MLP(train_window_size, channel_size, hidden_size, predict_window_size).cuda()"
      ],
      "metadata": {
        "id": "LY2AJjpuCI-W"
      },
      "execution_count": 32,
      "outputs": []
    },
    {
      "cell_type": "markdown",
      "source": [
        "#Dataset"
      ],
      "metadata": {
        "id": "FQF-h9NuCLtJ"
      }
    },
    {
      "cell_type": "code",
      "source": [
        "import pandas as pd\n",
        "\n",
        "# Read the CSV file\n",
        "datapd = pd.read_csv('/content/Sep18/normaldutchPowerDataF1Label.csv')\n",
        "\n",
        "# Convert to NumPy array\n",
        "data= datapd.to_numpy()"
      ],
      "metadata": {
        "id": "JTaPxRwxJrzo"
      },
      "execution_count": 33,
      "outputs": []
    },
    {
      "cell_type": "code",
      "source": [],
      "metadata": {
        "id": "lEW1uXJ8NewH"
      },
      "execution_count": 33,
      "outputs": []
    },
    {
      "cell_type": "code",
      "source": [
        "plt.plot(data[:,0])"
      ],
      "metadata": {
        "id": "EjtfdxfxM8DU",
        "colab": {
          "base_uri": "https://localhost:8080/",
          "height": 447
        },
        "outputId": "31013694-639a-4a10-fbcc-291077f0a591"
      },
      "execution_count": 34,
      "outputs": [
        {
          "output_type": "execute_result",
          "data": {
            "text/plain": [
              "[<matplotlib.lines.Line2D at 0x7a0d420b23b0>]"
            ]
          },
          "metadata": {},
          "execution_count": 34
        },
        {
          "output_type": "display_data",
          "data": {
            "text/plain": [
              "<Figure size 640x480 with 1 Axes>"
            ],
            "image/png": "[encoded data removed]"
          },
          "metadata": {}
        }
      ]
    },
    {
      "cell_type": "code",
      "source": [
        "data[:, [0, 1]] = data[:, [1, 0]]\n"
      ],
      "metadata": {
        "id": "iScQAzUIjgEb"
      },
      "execution_count": 35,
      "outputs": []
    },
    {
      "cell_type": "code",
      "source": [
        "data = data.astype('float')"
      ],
      "metadata": {
        "id": "egQnFCXOOZVM"
      },
      "execution_count": 36,
      "outputs": []
    },
    {
      "cell_type": "code",
      "source": [
        "# prompt: normalize by mean and standard deviation to data[:, 1]\n",
        "\n",
        "# Calculate mean and standard deviation\n",
        "mean = np.mean(data[:, 1])\n",
        "std = np.std(data[:, 1])\n",
        "\n",
        "# Normalize the data\n",
        "normalized_data = (data[:, 1] - mean) / std\n",
        "\n",
        "# Replace the original data with the normalized data\n",
        "data[:, 1] = normalized_data\n"
      ],
      "metadata": {
        "id": "ZQrPTmDSJI4C"
      },
      "execution_count": 37,
      "outputs": []
    },
    {
      "cell_type": "code",
      "source": [
        "np.save('cleaned_dutch_power.npy',data)"
      ],
      "metadata": {
        "id": "SHtb1vjxO7AM"
      },
      "execution_count": 38,
      "outputs": []
    },
    {
      "cell_type": "code",
      "source": [
        "# data = np.loadtxt('demo_data_price.csv',delimiter=',')"
      ],
      "metadata": {
        "id": "rgv-xGfqCLJy"
      },
      "execution_count": 39,
      "outputs": []
    },
    {
      "cell_type": "code",
      "source": [
        "# Split the time series into training, validation and testing series\n",
        "train_portion = 0.48\n",
        "vali_portion = 0.4\n",
        "test_portion = 1- train_portion - vali_portion\n",
        "\n",
        "train_size = np.ceil(train_portion*data.shape[0]).astype('int')\n",
        "vali_size = np.ceil(vali_portion*data.shape[0]).astype('int')\n",
        "\n",
        "data_train = data[:train_size,:]\n",
        "data_validation = data[train_size:train_size+vali_size,:]\n",
        "data_test = data[train_size+vali_size:,:]\n",
        "\n",
        "def normalize_data(data):\n",
        "    return data,0,0\n",
        "'''\n",
        "def normalize_data(data):\n",
        "    # Calculate the mean and standard deviation along each dimension\n",
        "    means = data.mean(dim=0)\n",
        "    stds = data.std(dim=0)\n",
        "\n",
        "    # Avoid division by zero by adding a small constant to std if necessary\n",
        "    stds += 1e-8\n",
        "\n",
        "    # Normalize the data\n",
        "    normalized_data = (data - means) / stds\n",
        "\n",
        "    # Assuming 'data' is your multivariate time series dataset in a PyTorch tensor\n",
        "    # Compute the minimum and maximum values for each feature\n",
        "    #min_vals, _ = torch.min(data, dim=0)\n",
        "    #max_vals, _ = torch.max(data, dim=0)\n",
        "\n",
        "    # Apply min-max scaling to normalize the data\n",
        "    #normalized_data = (data - min_vals) / (max_vals - min_vals) + 1e-8\n",
        "    return normalized_data, means, stds\n",
        "    #return normalized_data, min_vals, max_vals\n",
        "'''\n",
        "\n",
        "def generate_forecast_data(train_data,train_window_size=750,predict_window_size = 200):\n",
        "  train_data = torch.from_numpy(train_data)\n",
        "  train_data,mean_data, std_data = normalize_data(train_data)\n",
        "  data_segments = train_data.unfold(dimension = 0,size = train_window_size, step = 1).float()\n",
        "  target_data = train_data[train_window_size:]\n",
        "  target_data_segments = target_data.unfold(dimension = 0,size = predict_window_size, step = 1).float()\n",
        "  data_segments = data_segments[0:target_data_segments.size(0),:]\n",
        "  target_data_segments = target_data_segments[:,[0,-1],:]\n",
        "  return data_segments, target_data_segments, mean_data, std_data\n",
        "\n",
        "\n",
        "\n",
        "train,target,mean_data, std_data = generate_forecast_data(data_train,train_window_size=train_window_size, predict_window_size=predict_window_size)\n",
        "test,target_test,mean_data2, std_data2 = generate_forecast_data(data_test,train_window_size=train_window_size, predict_window_size=predict_window_size)\n",
        "\n",
        "# add validation and validation target ect.\n",
        "validation,target_validation,mean_data3,std_data3 = generate_forecast_data(data_validation,train_window_size=train_window_size, predict_window_size=predict_window_size)\n",
        "\n",
        "\n",
        "# Convert data to PyTorch tensors\n",
        "train_tensor = torch.tensor(train, dtype=torch.float32)\n",
        "test_tensor = torch.tensor(test, dtype=torch.float32)\n",
        "target_tensor = torch.tensor(target, dtype=torch.float32)\n",
        "target_test_tensor = torch.tensor(target_test, dtype=torch.float32)\n",
        "\n",
        "# make the new validations into tensors\n",
        "validation_tensor = torch.tensor(validation, dtype=torch.float32)\n",
        "target_validation_tensor = torch.tensor(target_validation, dtype=torch.float32)\n",
        "\n",
        "\n",
        "\n",
        "train_y = target_tensor.cuda()\n",
        "train_X = train_tensor.cuda()\n",
        "valid_X = validation_tensor.cuda()\n",
        "valid_y = target_validation_tensor.cuda()\n",
        "test_X = test_tensor.cuda()\n",
        "test_Y = target_test_tensor.cuda()\n",
        "\n",
        "train_g = train_y[:,0,:].int()\n",
        "valid_g = valid_y[:,0,:].int()\n",
        "test_g = test_Y[:,0,:].int()\n",
        "\n",
        "train_X = train_X[:,1:,:]\n",
        "valid_X = valid_X[:,1:,:]\n",
        "test_X = test_X[:,1:,:]\n",
        "train_y = train_y[:,1,:]\n",
        "valid_y = valid_y[:,1,:]\n",
        "test_y = test_Y[:,1,:]\n",
        "\n",
        "unique_label, group_counts = torch.unique(train_g, return_counts=True)\n",
        "n_groups = len(unique_label)\n"
      ],
      "metadata": {
        "id": "-YjkuqE2Cdkh",
        "colab": {
          "base_uri": "https://localhost:8080/"
        },
        "outputId": "666978ff-4049-4ab4-af5f-a08ae5a846ac"
      },
      "execution_count": 40,
      "outputs": [
        {
          "output_type": "stream",
          "name": "stderr",
          "text": [
            "<ipython-input-40-b6a2f30c9dcb>:58: UserWarning: To copy construct from a tensor, it is recommended to use sourceTensor.clone().detach() or sourceTensor.clone().detach().requires_grad_(True), rather than torch.tensor(sourceTensor).\n",
            "  train_tensor = torch.tensor(train, dtype=torch.float32)\n",
            "<ipython-input-40-b6a2f30c9dcb>:59: UserWarning: To copy construct from a tensor, it is recommended to use sourceTensor.clone().detach() or sourceTensor.clone().detach().requires_grad_(True), rather than torch.tensor(sourceTensor).\n",
            "  test_tensor = torch.tensor(test, dtype=torch.float32)\n",
            "<ipython-input-40-b6a2f30c9dcb>:60: UserWarning: To copy construct from a tensor, it is recommended to use sourceTensor.clone().detach() or sourceTensor.clone().detach().requires_grad_(True), rather than torch.tensor(sourceTensor).\n",
            "  target_tensor = torch.tensor(target, dtype=torch.float32)\n",
            "<ipython-input-40-b6a2f30c9dcb>:61: UserWarning: To copy construct from a tensor, it is recommended to use sourceTensor.clone().detach() or sourceTensor.clone().detach().requires_grad_(True), rather than torch.tensor(sourceTensor).\n",
            "  target_test_tensor = torch.tensor(target_test, dtype=torch.float32)\n",
            "<ipython-input-40-b6a2f30c9dcb>:64: UserWarning: To copy construct from a tensor, it is recommended to use sourceTensor.clone().detach() or sourceTensor.clone().detach().requires_grad_(True), rather than torch.tensor(sourceTensor).\n",
            "  validation_tensor = torch.tensor(validation, dtype=torch.float32)\n",
            "<ipython-input-40-b6a2f30c9dcb>:65: UserWarning: To copy construct from a tensor, it is recommended to use sourceTensor.clone().detach() or sourceTensor.clone().detach().requires_grad_(True), rather than torch.tensor(sourceTensor).\n",
            "  target_validation_tensor = torch.tensor(target_validation, dtype=torch.float32)\n"
          ]
        }
      ]
    },
    {
      "cell_type": "code",
      "source": [
        "plt.plot(train_X[0, 0, :].cpu().numpy())"
      ],
      "metadata": {
        "colab": {
          "base_uri": "https://localhost:8080/",
          "height": 447
        },
        "id": "2PDixeN3jX_t",
        "outputId": "730413f0-c8ea-4c3f-ee8d-0ce36a1b8a63"
      },
      "execution_count": 41,
      "outputs": [
        {
          "output_type": "execute_result",
          "data": {
            "text/plain": [
              "[<matplotlib.lines.Line2D at 0x7a0d4203beb0>]"
            ]
          },
          "metadata": {},
          "execution_count": 41
        },
        {
          "output_type": "display_data",
          "data": {
            "text/plain": [
              "<Figure size 640x480 with 1 Axes>"
            ],
            "image/png": "[encoded data removed]"
          },
          "metadata": {}
        }
      ]
    },
    {
      "cell_type": "code",
      "source": [
        "test_X.size()"
      ],
      "metadata": {
        "colab": {
          "base_uri": "https://localhost:8080/"
        },
        "id": "OLaXcZ3KNVI6",
        "outputId": "9a90ebc5-bfbd-4e3c-edfd-e2b1788e81b7"
      },
      "execution_count": 42,
      "outputs": [
        {
          "output_type": "execute_result",
          "data": {
            "text/plain": [
              "torch.Size([3428, 1, 96])"
            ]
          },
          "metadata": {},
          "execution_count": 42
        }
      ]
    },
    {
      "cell_type": "code",
      "source": [
        "plt.plot(test_X[100, 0, :].cpu().numpy())"
      ],
      "metadata": {
        "colab": {
          "base_uri": "https://localhost:8080/",
          "height": 447
        },
        "id": "0lSz1xt-NAIa",
        "outputId": "499c6e4d-8716-4cd9-db44-108b415a090f"
      },
      "execution_count": 43,
      "outputs": [
        {
          "output_type": "execute_result",
          "data": {
            "text/plain": [
              "[<matplotlib.lines.Line2D at 0x7a0d60876740>]"
            ]
          },
          "metadata": {},
          "execution_count": 43
        },
        {
          "output_type": "display_data",
          "data": {
            "text/plain": [
              "<Figure size 640x480 with 1 Axes>"
            ],
            "image/png": "[encoded data removed]"
          },
          "metadata": {}
        }
      ]
    },
    {
      "cell_type": "code",
      "source": [
        "# prompt: create a pytorch dataset class for storing train_X, train_y, train_g together\n",
        "\n",
        "class TS_Group_Dataset(Dataset):\n",
        "  def __init__(self, X, y, g):\n",
        "    self.X = X\n",
        "    self.y = y\n",
        "    self.g = g\n",
        "\n",
        "  def __len__(self):\n",
        "    return len(self.X)\n",
        "\n",
        "  def __getitem__(self, idx):\n",
        "    return self.X[idx], self.y[idx], self.g[idx]\n"
      ],
      "metadata": {
        "id": "Hmi36JxvDfwz"
      },
      "execution_count": 44,
      "outputs": []
    },
    {
      "cell_type": "code",
      "source": [
        "train_dataset = TS_Group_Dataset(train_X, train_y, train_g)\n",
        "test_dataset = TS_Group_Dataset(test_X, test_y, test_g)\n",
        "valid_dataset = TS_Group_Dataset(valid_X, valid_y, valid_g)\n",
        "\n",
        "batch_size = 128\n",
        "\n",
        "train_loader = DataLoader(train_dataset, batch_size=batch_size, shuffle=True)\n",
        "test_loader = DataLoader(test_dataset, batch_size=batch_size, shuffle=False)\n",
        "valid_loader = DataLoader(valid_dataset, batch_size=batch_size, shuffle=False)\n"
      ],
      "metadata": {
        "id": "T_N7snVaDtcT"
      },
      "execution_count": 45,
      "outputs": []
    },
    {
      "cell_type": "markdown",
      "source": [],
      "metadata": {
        "id": "KSvVHlTmDfI0"
      }
    },
    {
      "cell_type": "markdown",
      "source": [
        "#Model Training"
      ],
      "metadata": {
        "id": "vCl-z7VrC4mB"
      }
    },
    {
      "cell_type": "code",
      "source": [
        "criterion =  nn.MSELoss(reduction='none')\n",
        "criterion2 = nn.MSELoss()\n"
      ],
      "metadata": {
        "id": "dLml37M-ClSV"
      },
      "execution_count": 46,
      "outputs": []
    },
    {
      "cell_type": "code",
      "source": [
        "print(train_window_size)\n",
        "print(channel_size)\n",
        "print(hidden_size)\n",
        "print(predict_window_size)\n"
      ],
      "metadata": {
        "colab": {
          "base_uri": "https://localhost:8080/"
        },
        "id": "_xTnFCPvpuXj",
        "outputId": "ef6b7115-fc52-4ee3-8054-038a096f0cf4"
      },
      "execution_count": 47,
      "outputs": [
        {
          "output_type": "stream",
          "name": "stdout",
          "text": [
            "96\n",
            "1\n",
            "128\n",
            "24\n"
          ]
        }
      ]
    },
    {
      "cell_type": "markdown",
      "source": [
        "# Group DRO"
      ],
      "metadata": {
        "id": "D9EwE4VcUYC0"
      }
    },
    {
      "cell_type": "code",
      "source": [
        "# claim the model\n",
        "model = MLP(train_window_size, channel_size, hidden_size, predict_window_size).cuda()\n",
        "model_optim = optim.Adam(model.parameters(), lr=1e-3, weight_decay=args.wd)"
      ],
      "metadata": {
        "id": "Y3xGv76apv0H"
      },
      "execution_count": 48,
      "outputs": []
    },
    {
      "cell_type": "code",
      "source": [
        "model = model.cuda()\n",
        "adv_probs = torch.ones(n_groups).cuda()/n_groups"
      ],
      "metadata": {
        "id": "rxMpUw91C6Y5"
      },
      "execution_count": 49,
      "outputs": []
    },
    {
      "cell_type": "code",
      "source": [],
      "metadata": {
        "id": "GWJOuwMWHPr0"
      },
      "execution_count": 49,
      "outputs": []
    },
    {
      "cell_type": "code",
      "source": [
        "# prompt: training the model use train, verify by vaildation, and report test result\n",
        "# this is DRO\n",
        "n_epochs = 50\n",
        "best_valid_loss = float('inf')\n",
        "counter = 0\n",
        "\n",
        "for epoch in range(n_epochs):\n",
        "  model.train()\n",
        "  train_loss = 0\n",
        "  for batch_X, batch_y, batch_g in train_loader:\n",
        "    model.train()\n",
        "    model_optim.zero_grad()\n",
        "\n",
        "    outputs = model(batch_X) # model will output a forecasting\n",
        "    loss = criterion(outputs, batch_y)\n",
        "\n",
        "    group_map = (batch_g == torch.arange(n_groups).unsqueeze(1).unsqueeze(1).long().cuda()).float()\n",
        "    group_count = group_map.sum(1).sum(1)\n",
        "    group_denom = group_count + (group_count==0).float() # avoid nans\n",
        "    group_loss = torch.einsum('bj,gbj->g', loss, group_map.float()).squeeze()\n",
        "    group_loss = group_loss/group_denom\n",
        "\n",
        "    adjusted_loss = group_loss\n",
        "    adjusted_loss = adjusted_loss/(adjusted_loss.sum())\n",
        "\n",
        "    s = torch.exp(adjusted_loss.data);\n",
        "    adv_probs = adv_probs * s\n",
        "    adv_probs = (adv_probs+1)/(adv_probs.sum()+1)\n",
        "    robust_loss = group_loss @ adv_probs\n",
        "    robust_loss.backward()\n",
        "    # optimize the params based off the loss\n",
        "    model_optim.step()\n",
        "    train_loss += robust_loss.item()\n",
        "\n",
        "  model.eval()\n",
        "  valid_loss = 0\n",
        "  with torch.no_grad():\n",
        "    for batch_X, batch_y, batch_g in valid_loader:\n",
        "      outputs = model(batch_X)\n",
        "      loss = criterion(outputs, batch_y)\n",
        "      group_map = (batch_g == torch.arange(n_groups).unsqueeze(1).unsqueeze(1).long().cuda()).float()\n",
        "      group_count = group_map.sum(1).sum(1)\n",
        "      group_denom = group_count + (group_count==0).float() # avoid nans\n",
        "      group_loss = torch.einsum('bj,gbj->g', loss, group_map.float()).squeeze()\n",
        "      group_loss = group_loss/group_denom\n",
        "      loss_avg = group_loss.mean()\n",
        "      valid_loss += loss_avg.item()\n",
        "  test_loss = 0\n",
        "\n",
        "  with torch.no_grad():\n",
        "    for batch_X, batch_y, batch_g in test_loader:\n",
        "        outputs = model(batch_X)\n",
        "        loss = criterion(outputs, batch_y)\n",
        "        group_map = (batch_g == torch.arange(n_groups).unsqueeze(1).unsqueeze(1).long().cuda()).float()\n",
        "        group_count = group_map.sum(1).sum(1)\n",
        "        group_denom = group_count + (group_count==0).float() # avoid nans\n",
        "        group_loss = torch.einsum('bj,gbj->g', loss, group_map.float()).squeeze()\n",
        "        group_loss = group_loss/group_denom\n",
        "        loss_avg = group_loss.mean()\n",
        "        test_loss += loss_avg.item()\n",
        "\n",
        "  print('Epoch [{}/{}], Train Loss: {:.4f}, Valid Loss: {:.4f}, Test Running Los: {:.4f}'\n",
        "        .format(epoch+1, n_epochs, train_loss / len(train_loader), valid_loss / len(valid_loader),test_loss / len(test_loader)))\n",
        "\n",
        "  if valid_loss < best_valid_loss:\n",
        "    best_valid_loss = valid_loss\n",
        "    torch.save(model.state_dict(), 'best_model.pth')\n",
        "\n",
        "\n",
        "# Load the best model\n",
        "model.load_state_dict(torch.load('best_model.pth'))\n",
        "\n",
        "# Evaluate on the test set\n",
        "model.eval()\n",
        "test_loss = 0\n",
        "group_loss_tmp = np.zeros((2,))\n",
        "\n",
        "with torch.no_grad():\n",
        "  for batch_X, batch_y, batch_g in test_loader:\n",
        "    outputs = model(batch_X)\n",
        "    loss = criterion(outputs, batch_y)\n",
        "    group_map = (batch_g == torch.arange(n_groups).unsqueeze(1).unsqueeze(1).long().cuda()).float()\n",
        "    group_count = group_map.sum(1).sum(1)\n",
        "    group_denom = group_count + (group_count==0).float() # avoid nans\n",
        "    group_loss = torch.einsum('bj,gbj->g', loss, group_map.float()).squeeze()\n",
        "    group_loss = group_loss/group_denom\n",
        "    group_loss_tmp += group_loss.cpu().detach().numpy()\n",
        "    loss_avg = group_loss.mean()\n",
        "    test_loss += loss_avg.item()\n",
        "\n",
        "\n",
        "print('DRO Test Loss: {:.4f}'.format(test_loss / len(test_loader)))\n",
        "final_group_loss = group_loss_tmp / len(test_loader)\n",
        "print('DRO Group Test Loss: ' + str(final_group_loss))\n"
      ],
      "metadata": {
        "id": "1rbeXLdVEMkm",
        "colab": {
          "base_uri": "https://localhost:8080/"
        },
        "outputId": "633b87e3-bb53-4e35-ad91-4faabf0de374"
      },
      "execution_count": 50,
      "outputs": [
        {
          "output_type": "stream",
          "name": "stdout",
          "text": [
            "Epoch [1/50], Train Loss: 0.4298, Valid Loss: 0.1215, Test Running Los: 0.1825\n",
            "Epoch [2/50], Train Loss: 0.2557, Valid Loss: 0.1051, Test Running Los: 0.1576\n",
            "Epoch [3/50], Train Loss: 0.2291, Valid Loss: 0.1045, Test Running Los: 0.1527\n",
            "Epoch [4/50], Train Loss: 0.2226, Valid Loss: 0.1020, Test Running Los: 0.1489\n",
            "Epoch [5/50], Train Loss: 0.2144, Valid Loss: 0.0964, Test Running Los: 0.1435\n",
            "Epoch [6/50], Train Loss: 0.2063, Valid Loss: 0.0975, Test Running Los: 0.1409\n",
            "Epoch [7/50], Train Loss: 0.2041, Valid Loss: 0.0983, Test Running Los: 0.1381\n",
            "Epoch [8/50], Train Loss: 0.2012, Valid Loss: 0.0976, Test Running Los: 0.1373\n",
            "Epoch [9/50], Train Loss: 0.1995, Valid Loss: 0.0948, Test Running Los: 0.1380\n",
            "Epoch [10/50], Train Loss: 0.1991, Valid Loss: 0.0940, Test Running Los: 0.1380\n",
            "Epoch [11/50], Train Loss: 0.1977, Valid Loss: 0.0924, Test Running Los: 0.1327\n",
            "Epoch [12/50], Train Loss: 0.1897, Valid Loss: 0.0925, Test Running Los: 0.1387\n",
            "Epoch [13/50], Train Loss: 0.1956, Valid Loss: 0.0954, Test Running Los: 0.1435\n",
            "Epoch [14/50], Train Loss: 0.1882, Valid Loss: 0.0908, Test Running Los: 0.1382\n",
            "Epoch [15/50], Train Loss: 0.1893, Valid Loss: 0.0921, Test Running Los: 0.1428\n",
            "Epoch [16/50], Train Loss: 0.1875, Valid Loss: 0.0954, Test Running Los: 0.1321\n",
            "Epoch [17/50], Train Loss: 0.1847, Valid Loss: 0.0889, Test Running Los: 0.1323\n",
            "Epoch [18/50], Train Loss: 0.1863, Valid Loss: 0.0939, Test Running Los: 0.1333\n",
            "Epoch [19/50], Train Loss: 0.1828, Valid Loss: 0.0923, Test Running Los: 0.1281\n",
            "Epoch [20/50], Train Loss: 0.1831, Valid Loss: 0.0926, Test Running Los: 0.1299\n",
            "Epoch [21/50], Train Loss: 0.1789, Valid Loss: 0.0924, Test Running Los: 0.1280\n",
            "Epoch [22/50], Train Loss: 0.1777, Valid Loss: 0.0894, Test Running Los: 0.1344\n",
            "Epoch [23/50], Train Loss: 0.1751, Valid Loss: 0.0987, Test Running Los: 0.1297\n",
            "Epoch [24/50], Train Loss: 0.1760, Valid Loss: 0.0931, Test Running Los: 0.1265\n",
            "Epoch [25/50], Train Loss: 0.1721, Valid Loss: 0.0906, Test Running Los: 0.1263\n",
            "Epoch [26/50], Train Loss: 0.1709, Valid Loss: 0.0920, Test Running Los: 0.1284\n",
            "Epoch [27/50], Train Loss: 0.1715, Valid Loss: 0.0929, Test Running Los: 0.1249\n",
            "Epoch [28/50], Train Loss: 0.1698, Valid Loss: 0.0954, Test Running Los: 0.1316\n",
            "Epoch [29/50], Train Loss: 0.1700, Valid Loss: 0.0941, Test Running Los: 0.1277\n",
            "Epoch [30/50], Train Loss: 0.1681, Valid Loss: 0.0918, Test Running Los: 0.1288\n",
            "Epoch [31/50], Train Loss: 0.1658, Valid Loss: 0.0894, Test Running Los: 0.1247\n",
            "Epoch [32/50], Train Loss: 0.1676, Valid Loss: 0.0910, Test Running Los: 0.1220\n",
            "Epoch [33/50], Train Loss: 0.1672, Valid Loss: 0.0978, Test Running Los: 0.1272\n",
            "Epoch [34/50], Train Loss: 0.1655, Valid Loss: 0.0911, Test Running Los: 0.1257\n",
            "Epoch [35/50], Train Loss: 0.1606, Valid Loss: 0.0920, Test Running Los: 0.1233\n",
            "Epoch [36/50], Train Loss: 0.1621, Valid Loss: 0.0906, Test Running Los: 0.1244\n",
            "Epoch [37/50], Train Loss: 0.1627, Valid Loss: 0.0908, Test Running Los: 0.1241\n",
            "Epoch [38/50], Train Loss: 0.1617, Valid Loss: 0.1021, Test Running Los: 0.1338\n",
            "Epoch [39/50], Train Loss: 0.1630, Valid Loss: 0.0973, Test Running Los: 0.1210\n",
            "Epoch [40/50], Train Loss: 0.1586, Valid Loss: 0.0940, Test Running Los: 0.1288\n",
            "Epoch [41/50], Train Loss: 0.1611, Valid Loss: 0.0956, Test Running Los: 0.1251\n",
            "Epoch [42/50], Train Loss: 0.1588, Valid Loss: 0.0891, Test Running Los: 0.1216\n",
            "Epoch [43/50], Train Loss: 0.1597, Valid Loss: 0.1001, Test Running Los: 0.1314\n",
            "Epoch [44/50], Train Loss: 0.1564, Valid Loss: 0.0948, Test Running Los: 0.1237\n",
            "Epoch [45/50], Train Loss: 0.1593, Valid Loss: 0.0961, Test Running Los: 0.1338\n",
            "Epoch [46/50], Train Loss: 0.1602, Valid Loss: 0.0918, Test Running Los: 0.1267\n",
            "Epoch [47/50], Train Loss: 0.1587, Valid Loss: 0.0932, Test Running Los: 0.1207\n",
            "Epoch [48/50], Train Loss: 0.1563, Valid Loss: 0.1005, Test Running Los: 0.1263\n",
            "Epoch [49/50], Train Loss: 0.1563, Valid Loss: 0.0931, Test Running Los: 0.1195\n",
            "Epoch [50/50], Train Loss: 0.1540, Valid Loss: 0.0911, Test Running Los: 0.1204\n",
            "DRO Test Loss: 0.1323\n",
            "DRO Group Test Loss: [0.17870919 0.08590518]\n"
          ]
        },
        {
          "output_type": "stream",
          "name": "stderr",
          "text": [
            "<ipython-input-50-3699cd322ede>:71: FutureWarning: You are using `torch.load` with `weights_only=False` (the current default value), which uses the default pickle module implicitly. It is possible to construct malicious pickle data which will execute arbitrary code during unpickling (See https://github.com/pytorch/pytorch/blob/main/SECURITY.md#untrusted-models for more details). In a future release, the default value for `weights_only` will be flipped to `True`. This limits the functions that could be executed during unpickling. Arbitrary objects will no longer be allowed to be loaded via this mode unless they are explicitly allowlisted by the user via `torch.serialization.add_safe_globals`. We recommend you start setting `weights_only=True` for any use case where you don't have full control of the loaded file. Please open an issue on GitHub for any issues related to this experimental feature.\n",
            "  model.load_state_dict(torch.load('best_model.pth'))\n"
          ]
        }
      ]
    },
    {
      "cell_type": "markdown",
      "source": [
        "### Regular RMSE"
      ],
      "metadata": {
        "id": "svwRTzsFTnIg"
      }
    },
    {
      "cell_type": "code",
      "source": [
        "model = MLP(train_window_size, channel_size, hidden_size, predict_window_size).cuda()\n",
        "model_optim = optim.Adam(model.parameters(), lr=1e-3, weight_decay=args.wd)"
      ],
      "metadata": {
        "id": "hbqmWkGYJH0Y"
      },
      "execution_count": 51,
      "outputs": []
    },
    {
      "cell_type": "code",
      "source": [
        "# prompt: training model via criterion2\n",
        "# this is RMSE\n",
        "n_epochs = 50\n",
        "best_valid_loss = float('inf')\n",
        "patience = 100\n",
        "counter = 0\n",
        "\n",
        "for epoch in range(n_epochs):\n",
        "  model.train()\n",
        "  train_loss = 0\n",
        "  for batch_X, batch_y, batch_g in train_loader:\n",
        "    model.train()\n",
        "    model_optim.zero_grad()\n",
        "\n",
        "    outputs = model(batch_X) # model will output a forecasting\n",
        "    loss = criterion2(outputs, batch_y) # Use criterion2 here\n",
        "\n",
        "    loss.backward()\n",
        "    # optimize the params based off the loss\n",
        "    model_optim.step()\n",
        "    train_loss += loss.item()\n",
        "\n",
        "  model.eval()\n",
        "  valid_loss = 0\n",
        "  with torch.no_grad():\n",
        "    for batch_X, batch_y, batch_g in valid_loader:\n",
        "      outputs = model(batch_X)\n",
        "      loss = criterion2(outputs, batch_y) # Use criterion2 here\n",
        "      valid_loss += loss.item()\n",
        "\n",
        "\n",
        "\n",
        "  if valid_loss < best_valid_loss:\n",
        "    best_valid_loss = valid_loss\n",
        "    torch.save(model.state_dict(), 'best_model_rmse.pth')\n",
        "\n",
        "  test_loss = 0\n",
        "  group_loss_tmp = np.zeros((2,))\n",
        "\n",
        "  with torch.no_grad():\n",
        "    for batch_X, batch_y, batch_g in test_loader:\n",
        "        outputs = model(batch_X)\n",
        "        loss = criterion(outputs, batch_y)\n",
        "        group_map = (batch_g == torch.arange(n_groups).unsqueeze(1).unsqueeze(1).long().cuda()).float()\n",
        "        group_count = group_map.sum(1).sum(1)\n",
        "        group_denom = group_count + (group_count==0).float() # avoid nans\n",
        "        group_loss = torch.einsum('bj,gbj->g', loss, group_map.float()).squeeze()\n",
        "        group_loss = group_loss/group_denom\n",
        "        loss_avg = group_loss.mean()\n",
        "        test_loss += loss_avg.item()\n",
        "  print('Epoch [{}/{}], Train Loss: {:.4f}, Valid Loss: {:.4f}, Test Running Los: {:.4f}'\n",
        "        .format(epoch+1, n_epochs, train_loss / len(train_loader), valid_loss / len(valid_loader),test_loss / len(test_loader)))\n",
        "\n",
        "model.load_state_dict(torch.load('best_model_rmse.pth'))\n",
        "\n",
        "model.eval()\n",
        "\n",
        "test_loss = 0\n",
        "with torch.no_grad():\n",
        "  for batch_X, batch_y, batch_g in test_loader:\n",
        "    outputs = model(batch_X)\n",
        "    loss = criterion(outputs, batch_y)\n",
        "    group_map = (batch_g == torch.arange(n_groups).unsqueeze(1).unsqueeze(1).long().cuda()).float()\n",
        "    group_count = group_map.sum(1).sum(1)\n",
        "    group_denom = group_count + (group_count==0).float() # avoid nans\n",
        "    group_loss = torch.einsum('bj,gbj->g', loss, group_map.float()).squeeze()\n",
        "    group_loss = group_loss/group_denom\n",
        "    group_loss_tmp += group_loss.cpu().detach().numpy()\n",
        "    loss_avg = group_loss.mean()\n",
        "    test_loss += loss_avg.item()\n",
        "print('RMSE Test Loss: {:.4f}'.format(test_loss / len(test_loader)))\n",
        "final_group_loss = group_loss_tmp / len(test_loader)\n",
        "print('RMSE Group Test Loss: ' + str(final_group_loss))"
      ],
      "metadata": {
        "id": "BE2fb9m1J_Gp",
        "colab": {
          "base_uri": "https://localhost:8080/"
        },
        "outputId": "4a0bedf8-f527-48b4-8100-36cccec7cf7a"
      },
      "execution_count": null,
      "outputs": [
        {
          "output_type": "stream",
          "name": "stdout",
          "text": [
            "Epoch [1/50], Train Loss: 0.3384, Valid Loss: 0.1640, Test Running Los: 0.1768\n",
            "Epoch [2/50], Train Loss: 0.1853, Valid Loss: 0.1524, Test Running Los: 0.1547\n",
            "Epoch [3/50], Train Loss: 0.1717, Valid Loss: 0.1432, Test Running Los: 0.1452\n",
            "Epoch [4/50], Train Loss: 0.1639, Valid Loss: 0.1366, Test Running Los: 0.1434\n",
            "Epoch [5/50], Train Loss: 0.1584, Valid Loss: 0.1343, Test Running Los: 0.1418\n",
            "Epoch [6/50], Train Loss: 0.1567, Valid Loss: 0.1332, Test Running Los: 0.1397\n",
            "Epoch [7/50], Train Loss: 0.1534, Valid Loss: 0.1305, Test Running Los: 0.1447\n",
            "Epoch [8/50], Train Loss: 0.1504, Valid Loss: 0.1324, Test Running Los: 0.1365\n",
            "Epoch [9/50], Train Loss: 0.1484, Valid Loss: 0.1282, Test Running Los: 0.1376\n",
            "Epoch [10/50], Train Loss: 0.1486, Valid Loss: 0.1298, Test Running Los: 0.1331\n",
            "Epoch [11/50], Train Loss: 0.1455, Valid Loss: 0.1254, Test Running Los: 0.1372\n",
            "Epoch [12/50], Train Loss: 0.1461, Valid Loss: 0.1306, Test Running Los: 0.1376\n",
            "Epoch [13/50], Train Loss: 0.1436, Valid Loss: 0.1286, Test Running Los: 0.1393\n",
            "Epoch [14/50], Train Loss: 0.1439, Valid Loss: 0.1255, Test Running Los: 0.1323\n",
            "Epoch [15/50], Train Loss: 0.1413, Valid Loss: 0.1312, Test Running Los: 0.1378\n",
            "Epoch [16/50], Train Loss: 0.1414, Valid Loss: 0.1272, Test Running Los: 0.1338\n",
            "Epoch [17/50], Train Loss: 0.1392, Valid Loss: 0.1267, Test Running Los: 0.1306\n",
            "Epoch [18/50], Train Loss: 0.1371, Valid Loss: 0.1255, Test Running Los: 0.1297\n",
            "Epoch [19/50], Train Loss: 0.1369, Valid Loss: 0.1239, Test Running Los: 0.1331\n",
            "Epoch [20/50], Train Loss: 0.1372, Valid Loss: 0.1306, Test Running Los: 0.1290\n",
            "Epoch [21/50], Train Loss: 0.1387, Valid Loss: 0.1256, Test Running Los: 0.1302\n",
            "Epoch [22/50], Train Loss: 0.1354, Valid Loss: 0.1258, Test Running Los: 0.1283\n"
          ]
        }
      ]
    },
    {
      "cell_type": "code",
      "source": [
        "group_loss"
      ],
      "metadata": {
        "id": "-MbllDJ_QA_e"
      },
      "execution_count": null,
      "outputs": []
    },
    {
      "cell_type": "code",
      "source": [
        "batch_y.size()"
      ],
      "metadata": {
        "id": "TgEXE81MMKtX"
      },
      "execution_count": null,
      "outputs": []
    },
    {
      "cell_type": "code",
      "source": [
        "batch_X[0, 0, :]"
      ],
      "metadata": {
        "id": "TdjYpzY0K2_l"
      },
      "execution_count": null,
      "outputs": []
    },
    {
      "cell_type": "code",
      "source": [
        "# prompt: plot a row of batch_X, batch_y continously, with different color\n",
        "\n",
        "import matplotlib.pyplot as plt\n",
        "\n",
        "# Assuming batch_X and batch_y are tensors from your DataLoader\n",
        "# Let's plot the first row of batch_X and batch_y\n",
        "idx = 99\n",
        "plt.figure(figsize=(12, 6))\n",
        "\n",
        "plt.plot(batch_X[idx, 0, :].cpu().numpy(), label='Input', color='blue')\n",
        "plt.plot(batch_y[idx,:].cpu().numpy(), label='Target', color='red')\n",
        "\n",
        "plt.xlabel('Time Step')\n",
        "plt.ylabel('Value')\n",
        "plt.title('Input and Target for a Single Example')\n",
        "plt.legend()\n",
        "plt.show()\n"
      ],
      "metadata": {
        "id": "XU0yQZjAryBp"
      },
      "execution_count": null,
      "outputs": []
    },
    {
      "cell_type": "code",
      "source": [],
      "metadata": {
        "id": "COgdUDvVKjqB"
      },
      "execution_count": null,
      "outputs": []
    }
  ]
}